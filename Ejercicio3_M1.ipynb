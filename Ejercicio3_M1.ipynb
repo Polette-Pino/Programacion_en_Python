{
 "cells": [
  {
   "cell_type": "code",
   "execution_count": 10,
   "metadata": {},
   "outputs": [
    {
     "name": "stdout",
     "output_type": "stream",
     "text": [
      "['almacenar', 8, 'a', [1, 2, 3], True, (0, 0, 1), 85.7]\n"
     ]
    }
   ],
   "source": [
    "L = [\"almacenar\", 8, \"a\", [1,2,3], True, \n",
    "(0,0,1), 85.7]\n",
    "print(L)"
   ]
  },
  {
   "cell_type": "code",
   "execution_count": 11,
   "metadata": {},
   "outputs": [
    {
     "name": "stdout",
     "output_type": "stream",
     "text": [
      "5\n"
     ]
    }
   ],
   "source": [
    "posicion = L.index((0,0,1))\n",
    "print(posicion)"
   ]
  },
  {
   "cell_type": "code",
   "execution_count": 12,
   "metadata": {},
   "outputs": [
    {
     "name": "stdout",
     "output_type": "stream",
     "text": [
      "['almacenar', 8, 'a', [1, 2, 3], True, (0, 0, 1)]\n"
     ]
    }
   ],
   "source": [
    "L.pop()\n",
    "print(L)"
   ]
  },
  {
   "cell_type": "code",
   "execution_count": 13,
   "metadata": {},
   "outputs": [
    {
     "name": "stdout",
     "output_type": "stream",
     "text": [
      "1\n"
     ]
    }
   ],
   "source": [
    "contador = L.count(\"a\")\n",
    "print(contador)"
   ]
  },
  {
   "cell_type": "code",
   "execution_count": 14,
   "metadata": {},
   "outputs": [
    {
     "name": "stdout",
     "output_type": "stream",
     "text": [
      "La palabra es un palíndromo\n"
     ]
    }
   ],
   "source": [
    "palabra = input(\"Introduce una palabra: \")\n",
    "if palabra == palabra[::-1]:\n",
    "    print(\"La palabra es un palíndromo\")\n",
    "else:\n",
    "    print(\"La palabra no es un palíndromo\")"
   ]
  },
  {
   "cell_type": "code",
   "execution_count": 15,
   "metadata": {},
   "outputs": [
    {
     "name": "stdout",
     "output_type": "stream",
     "text": [
      "[10, 9, 8, 7, 6, 5, 4, 3, 2, 1]\n"
     ]
    }
   ],
   "source": [
    "lista = []\n",
    "for i in range (10):\n",
    "  lista.append(i+1)\n",
    "\n",
    "inverso = lista[::-1]\n",
    "print(inverso)"
   ]
  },
  {
   "cell_type": "code",
   "execution_count": null,
   "metadata": {},
   "outputs": [
    {
     "name": "stdout",
     "output_type": "stream",
     "text": [
      "En Matemáticas has sacado un 5.5\n",
      "En Física has sacado un 6.2\n",
      "En Química has sacado un 6.0\n",
      "En Historia has sacado un 5.2\n",
      "En Lengua has sacado un 6.5\n"
     ]
    }
   ],
   "source": [
    "asignaturas = [\"Matemáticas\", \"Física\", \"Química\", \"Historia\", \"Lengua\"]\n",
    "notas = []\n",
    "for asignatura in asignaturas:\n",
    "    nota = float(input(\"¿Qué nota has sacado en \" + asignatura + \"? \"))\n",
    "    notas.append(nota)\n",
    "\n",
    "print(\"En \" + asignaturas[0] + \" has sacado un \" + str(notas[0]))\n",
    "print(\"En \" + asignaturas[1] + \" has sacado un \" + str(notas[1]))\n",
    "print(\"En \" + asignaturas[2] + \" has sacado un \" + str(notas[2]))\n",
    "print(\"En \" + asignaturas[3] + \" has sacado un \" + str(notas[3]))\n",
    "print(\"En \" + asignaturas[4] + \" has sacado un \" + str(notas[4]))\n"
   ]
  },
  {
   "cell_type": "code",
   "execution_count": 1,
   "metadata": {},
   "outputs": [
    {
     "name": "stdout",
     "output_type": "stream",
     "text": [
      "El producto de las matrices es:\n",
      "[2, 5]\n",
      "[2, 11]\n"
     ]
    }
   ],
   "source": [
    "matriz1 = [[1, 2, 3],[4, 5, 6]]\n",
    "matriz2 = [[-1, 0], [0, 1], [1, 1]]\n",
    "\n",
    "filas_matriz1 = len(matriz1)\n",
    "columnas_matriz1 = len(matriz1[0])\n",
    "filas_matriz2 = len(matriz2)\n",
    "columnas_matriz2 = len(matriz2[0])\n",
    "\n",
    "if columnas_matriz1 != filas_matriz2:\n",
    "    print(\"No se pueden multiplicar las matrices\")\n",
    "else:\n",
    "    producto = [[0] * columnas_matriz2 for _ in range(filas_matriz1)]\n",
    "    \n",
    "    for i in range(filas_matriz1):\n",
    "        for j in range(columnas_matriz2):\n",
    "            for k in range(filas_matriz2):\n",
    "                producto[i][j] += matriz1[i][k] * matriz2[k][j]\n",
    "\n",
    "    print(\"El producto de las matrices es:\")\n",
    "    for fila in producto:\n",
    "        print(fila)"
   ]
  },
  {
   "cell_type": "code",
   "execution_count": 25,
   "metadata": {},
   "outputs": [
    {
     "name": "stdout",
     "output_type": "stream",
     "text": [
      "El símbolo de Euro es €\n"
     ]
    }
   ],
   "source": [
    "divisas = {'Euro':'€', 'Dollar':'$', 'Yen':'¥'}\n",
    "\n",
    "divisa = input(\"Ingrese una divisa: \")\n",
    "\n",
    "if divisa in divisas:\n",
    "    print(\"El símbolo de\", divisa, \"es\", divisas[divisa])\n",
    "else:\n",
    "    print(\"La divisa ingresada no está en el diccionario.\")\n"
   ]
  },
  {
   "cell_type": "code",
   "execution_count": 2,
   "metadata": {},
   "outputs": [
    {
     "name": "stdout",
     "output_type": "stream",
     "text": [
      "La fecha es: 11 de February de 1991\n"
     ]
    }
   ],
   "source": [
    "import datetime\n",
    "fecha_str = input(\"Ingrese una fecha en formato dd/mm/aaaa: \")\n",
    "fecha = datetime.datetime.strptime(fecha_str, '%d/%m/%Y')\n",
    "nombre_mes = fecha.strftime('%B')\n",
    "fecha_formateada = fecha.strftime('%d de {} de %Y'.format(nombre_mes))\n",
    "print(\"La fecha es:\", fecha_formateada)\n"
   ]
  }
 ],
 "metadata": {
  "kernelspec": {
   "display_name": "Python 3",
   "language": "python",
   "name": "python3"
  },
  "language_info": {
   "codemirror_mode": {
    "name": "ipython",
    "version": 3
   },
   "file_extension": ".py",
   "mimetype": "text/x-python",
   "name": "python",
   "nbconvert_exporter": "python",
   "pygments_lexer": "ipython3",
   "version": "3.10.11"
  },
  "orig_nbformat": 4
 },
 "nbformat": 4,
 "nbformat_minor": 2
}
