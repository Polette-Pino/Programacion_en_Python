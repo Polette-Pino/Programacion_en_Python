{
 "cells": [
  {
   "cell_type": "code",
   "execution_count": 13,
   "id": "727bfb98",
   "metadata": {},
   "outputs": [
    {
     "name": "stdout",
     "output_type": "stream",
     "text": [
      "¡Hola Mundo!\n"
     ]
    }
   ],
   "source": [
    "saludo = \"¡Hola Mundo!\"\n",
    "print(saludo)"
   ]
  },
  {
   "cell_type": "code",
   "execution_count": 5,
   "id": "1280ff67",
   "metadata": {},
   "outputs": [
    {
     "name": "stdout",
     "output_type": "stream",
     "text": [
      "Introduce el número de horas trabajadas:45\n",
      "Introduce el pago por hora:8500\n",
      "El pago correspondiente es: 382500 pesos\n"
     ]
    }
   ],
   "source": [
    "horas_trabajadas = int(input(\"Introduce el número de horas trabajadas:\"))\n",
    "pago_por_hora = int(input(\"Introduce el pago por hora:\"))\n",
    "pago_correspondiente = horas_trabajadas * pago_por_hora\n",
    "print(\"El pago correspondiente es:\", pago_correspondiente, \"pesos\")"
   ]
  },
  {
   "cell_type": "code",
   "execution_count": 12,
   "id": "03010ea6",
   "metadata": {},
   "outputs": [
    {
     "name": "stdout",
     "output_type": "stream",
     "text": [
      "Número de kilos vendidos que no son del día:21.5\n",
      "El precio habitual por kilo de pan es: 1200 pesos\n",
      "El descuento por pan no fresco es del: 60.0 %\n",
      "El costo final total es: 10320.0 pesos\n"
     ]
    }
   ],
   "source": [
    "precio_kilo_pan = 1200\n",
    "descuento_pan_no_fresco = 0.6\n",
    "kilos_vendidos_no_frescos = float(input(\"Número de kilos vendidos que no son del día:\"))\n",
    "precio_habitual = kilos_vendidos_no_frescos * precio_kilo_pan\n",
    "descuento = precio_habitual * descuento_pan_no_fresco\n",
    "costo_final_total = precio_habitual - descuento\n",
    "print(\"El precio habitual por kilo de pan es:\", precio_kilo_pan, \"pesos\")\n",
    "print(\"El descuento por pan no fresco es del:\", descuento_pan_no_fresco * 100, \"%\")\n",
    "print(\"El costo final total es:\",costo_final_total, \"pesos\")"
   ]
  },
  {
   "cell_type": "code",
   "execution_count": 19,
   "id": "641c954d",
   "metadata": {},
   "outputs": [
    {
     "name": "stdout",
     "output_type": "stream",
     "text": [
      "Sueldo del trabajador:150000\n",
      "El nuevo sueldo es: 172500.0 pesos\n"
     ]
    }
   ],
   "source": [
    "sueldo = int(input(\"Sueldo del trabajador:\"))\n",
    "if sueldo < 200000:\n",
    "    sueldo *= 1.15\n",
    "print(\"El nuevo sueldo es:\", sueldo, \"pesos\")"
   ]
  },
  {
   "cell_type": "code",
   "execution_count": 22,
   "id": "56cfd64e",
   "metadata": {},
   "outputs": [
    {
     "name": "stdout",
     "output_type": "stream",
     "text": [
      "Capital Inicial:500000\n",
      "Tasa de interés anual (%):5\n",
      "Número de años:5\n",
      "El monto total acumulado despues de 5.0 años es 638140.7812500002\n"
     ]
    }
   ],
   "source": [
    "C = float(input(\"Capital Inicial:\"))\n",
    "I = float(input(\"Tasa de interés anual (%):\"))\n",
    "M = float(input(\"Número de años:\"))\n",
    "monto = C * (1 + (I/100)) ** M\n",
    "print(\"El monto total acumulado despues de\", M, \"años es\", monto)"
   ]
  },
  {
   "cell_type": "code",
   "execution_count": 28,
   "id": "1108422a",
   "metadata": {},
   "outputs": [
    {
     "name": "stdout",
     "output_type": "stream",
     "text": [
      "Introduce un número: 50\n",
      "El resultado de multiplicar 50.0 por 10 es: 500.0\n"
     ]
    }
   ],
   "source": [
    "numero = float(input(\"Introduce un número: \"))\n",
    "resultado = numero * 10\n",
    "print(\"El resultado de multiplicar\", numero, \"por 10 es:\", resultado)"
   ]
  },
  {
   "cell_type": "code",
   "execution_count": 46,
   "id": "8d90b101",
   "metadata": {},
   "outputs": [
    {
     "name": "stdout",
     "output_type": "stream",
     "text": [
      "Introduce la anchura del rectángulo: 15\n",
      "Introduce la altura del rectángulo: 3\n",
      "***************\n",
      "***************\n",
      "***************\n"
     ]
    }
   ],
   "source": [
    "anchura = int(input(\"Introduce la anchura del rectángulo: \"))\n",
    "altura = int(input(\"Introduce la altura del rectángulo: \"))\n",
    "for a in range(altura):\n",
    "    for b in range(anchura):\n",
    "        print(\"*\", end=\"\")\n",
    "    print()"
   ]
  },
  {
   "cell_type": "code",
   "execution_count": 52,
   "id": "5992a4eb",
   "metadata": {},
   "outputs": [
    {
     "name": "stdout",
     "output_type": "stream",
     "text": [
      "20\n",
      "384\n"
     ]
    }
   ],
   "source": [
    "lista = [2, 4, 6, 8]\n",
    "\n",
    "def sum(lista):\n",
    "    resultado = 0\n",
    "    for num in lista:\n",
    "        resultado += num\n",
    "    return resultado\n",
    "def multip(lista):\n",
    "    resultado = 1\n",
    "    for num in lista:\n",
    "        resultado *= num\n",
    "    return resultado\n",
    "\n",
    "print(sum(lista))\n",
    "print(multip(lista))"
   ]
  },
  {
   "cell_type": "code",
   "execution_count": 56,
   "id": "6f1e71a8",
   "metadata": {},
   "outputs": [
    {
     "name": "stdout",
     "output_type": "stream",
     "text": [
      "753\n"
     ]
    }
   ],
   "source": [
    "lista = [7, 5, 3]\n",
    "cadena = ''.join(map(str,lista))\n",
    "print(cadena)"
   ]
  },
  {
   "cell_type": "code",
   "execution_count": null,
   "id": "2ec678a0",
   "metadata": {},
   "outputs": [],
   "source": []
  }
 ],
 "metadata": {
  "kernelspec": {
   "display_name": "Python 3 (ipykernel)",
   "language": "python",
   "name": "python3"
  },
  "language_info": {
   "codemirror_mode": {
    "name": "ipython",
    "version": 3
   },
   "file_extension": ".py",
   "mimetype": "text/x-python",
   "name": "python",
   "nbconvert_exporter": "python",
   "pygments_lexer": "ipython3",
   "version": "3.10.9"
  }
 },
 "nbformat": 4,
 "nbformat_minor": 5
}
