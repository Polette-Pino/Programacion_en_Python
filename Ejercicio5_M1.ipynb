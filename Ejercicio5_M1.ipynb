{
 "cells": [
  {
   "cell_type": "code",
   "execution_count": 1,
   "metadata": {},
   "outputs": [
    {
     "ename": "ZeroDivisionError",
     "evalue": "division by zero",
     "output_type": "error",
     "traceback": [
      "\u001b[1;31m---------------------------------------------------------------------------\u001b[0m",
      "\u001b[1;31mZeroDivisionError\u001b[0m                         Traceback (most recent call last)",
      "Cell \u001b[1;32mIn[1], line 3\u001b[0m\n\u001b[0;32m      1\u001b[0m a \u001b[39m=\u001b[39m  \u001b[39m10\u001b[39m\n\u001b[0;32m      2\u001b[0m b \u001b[39m=\u001b[39m \u001b[39m0\u001b[39m\n\u001b[1;32m----> 3\u001b[0m c \u001b[39m=\u001b[39m a \u001b[39m/\u001b[39;49m b\n\u001b[0;32m      4\u001b[0m \u001b[39mprint\u001b[39m(\u001b[39m\"\u001b[39m\u001b[39ma/b = \u001b[39m\u001b[39m%d\u001b[39;00m\u001b[39m\"\u001b[39m \u001b[39m%\u001b[39m c)\n",
      "\u001b[1;31mZeroDivisionError\u001b[0m: division by zero"
     ]
    }
   ],
   "source": [
    "a =  10\n",
    "b = 0\n",
    "c = a / b\n",
    "print(\"a/b = %d\" % c)"
   ]
  },
  {
   "cell_type": "code",
   "execution_count": 2,
   "metadata": {},
   "outputs": [
    {
     "name": "stdout",
     "output_type": "stream",
     "text": [
      "No se puede dividir por cero.\n"
     ]
    }
   ],
   "source": [
    "a =  10\n",
    "b = 0\n",
    "\n",
    "# se usa try cuando el codigo presenta una excepción\n",
    "try:\n",
    "    c = a / b\n",
    "\n",
    "    # se usa excepción porque no se puede dividir por 0\n",
    "except ZeroDivisionError: \n",
    "    \n",
    "    # se indica que no se puede dividir por cero \n",
    "    print(\"No se puede dividir por cero.\")  "
   ]
  },
  {
   "cell_type": "code",
   "execution_count": 3,
   "metadata": {},
   "outputs": [
    {
     "name": "stdout",
     "output_type": "stream",
     "text": [
      "5.0\n"
     ]
    }
   ],
   "source": [
    "# se pide ingresar los valores al usuario de a y b\n",
    "a = float(input(\"Ingrese el valor de a: \"))\n",
    "b = float(input(\"Ingrese el valor de b: \"))\n",
    "\n",
    "# se usa try cuando el codigo presenta una excepción\n",
    "# permite que el programa continúe ejecutándose a pesar de que se produzcan errores.\n",
    "try:\n",
    "    print(a / b ) \n",
    "\n",
    "# se usa excepción para informar al usuario que el valor de b no puede ser 0\n",
    "except ZeroDivisionError: \n",
    "        \n",
    "        # se indica que el valor de b no puede ser 0 \n",
    "        print(\"El segundo número (b) no puede ser cero.\")   \n",
    "        \n",
    "        # se pide ingresar el valor de b nuevamente\n",
    "        b = float(input(\"Ingrese el valor de b nuevamente: \")) \n",
    "\n",
    "        print(a / b )"
   ]
  },
  {
   "cell_type": "code",
   "execution_count": 6,
   "metadata": {},
   "outputs": [
    {
     "name": "stdout",
     "output_type": "stream",
     "text": [
      "El interés simple es: 687.50\n"
     ]
    }
   ],
   "source": [
    "# se pide ingresar los valores al usuario\n",
    "monto = float(input(\"Ingrese el monto: \"))\n",
    "año = int(input(\"Ingrese el número de años: \"))\n",
    "tasa = float(input(\"Ingrese la tasa de interés: \"))\n",
    "\n",
    "# se define la funsion con los tres parámetros de entrada\n",
    "def interes_simple(monto, año, tasa):\n",
    "\n",
    "    # se define la condicion\n",
    "    if tasa > 100: \n",
    "\n",
    "        # se genera una  excepción para validar que la tasa de interés ingresada no sea superior al 100%\n",
    "        raise ValueError(\"La tasa no puede ser superior a 100.\")\n",
    "    else:\n",
    "        # se especifica el calculo de el interés\n",
    "        interes = (monto * año * tasa) / 100 \n",
    "        # devolver el valor de la variable interes como resultado de la función en la que se encuentra\n",
    "        return interes\n",
    "    \n",
    "try:\n",
    "    interes = interes_simple(monto, año, tasa)\n",
    "    # se usa f-strings para que se imprima el resultado con dos decimales\n",
    "    print(f\"El interés simple es: {interes:.2f}\")\n",
    "\n",
    "    # se usa excepción cuando el valor de la tasa es superior a 100\n",
    "except ValueError as error:\n",
    "    print(error)"
   ]
  }
 ],
 "metadata": {
  "kernelspec": {
   "display_name": "base",
   "language": "python",
   "name": "python3"
  },
  "language_info": {
   "codemirror_mode": {
    "name": "ipython",
    "version": 3
   },
   "file_extension": ".py",
   "mimetype": "text/x-python",
   "name": "python",
   "nbconvert_exporter": "python",
   "pygments_lexer": "ipython3",
   "version": "3.10.11"
  },
  "orig_nbformat": 4
 },
 "nbformat": 4,
 "nbformat_minor": 2
}
