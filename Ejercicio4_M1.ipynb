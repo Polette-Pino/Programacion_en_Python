{
 "cells": [
  {
   "cell_type": "code",
   "execution_count": 76,
   "metadata": {},
   "outputs": [],
   "source": [
    "#Ejercicio 1\n",
    "\n",
    "# Definir el nombre de la clase\n",
    "class Individuo:\n",
    "    # Se crea el constructor para inicializar el objeto con la información de sus atributos\n",
    "    def __init__(self, primer_nombre='', edad=0, rut=''):\n",
    "        self.primer_nombre = primer_nombre\n",
    "        self.edad = edad\n",
    "        self.rut = rut\n",
    "    \n",
    "    def set_primer_nombre(self, primer_nombre):\n",
    "        if isinstance(primer_nombre, str) and primer_nombre.isalpha(): # se define la cadena de variable y validar que solo sean letras\n",
    "            self.primer_nombre = primer_nombre\n",
    "        else:\n",
    "            print(\"Error: el nombre debe ser una cadena de caracteres.\")\n",
    "    \n",
    "    def get_primer_nombre(self):\n",
    "        return self.primer_nombre\n",
    "    \n",
    "    def set_edad(self, edad):\n",
    "        if isinstance(edad, int) and edad >= 0: # se define que la variable sea un entrero positivo\n",
    "            self.edad = edad\n",
    "        else:\n",
    "            print(\"Error: la edad debe ser un número entero positivo.\")\n",
    "    \n",
    "    def get_edad(self):\n",
    "        return self.edad\n",
    "    \n",
    "    def set_rut(self, rut):\n",
    "        if isinstance(rut, str): # se define que la variable sea una cadena de caracteres\n",
    "            self.rut = rut\n",
    "        else:\n",
    "            print(\"Error: el RUT debe ser una cadena de caracteres.\")\n",
    "    \n",
    "    def get_rut(self):\n",
    "        return self.rut\n",
    "    \n",
    "    def revelar(self):\n",
    "        print(\"Nombre: \" + self.primer_nombre)\n",
    "        print(\"Edad: \" + str(self.edad))\n",
    "        print(\"RUT: \" + self.rut)\n",
    "    \n",
    "    def adulto(self): # se define la condicion\n",
    "        if self.edad >= 18:\n",
    "            return \"Si\"\n",
    "        else:\n",
    "            return \"No\"\n"
   ]
  },
  {
   "cell_type": "code",
   "execution_count": 77,
   "metadata": {},
   "outputs": [
    {
     "name": "stdout",
     "output_type": "stream",
     "text": [
      "Nombre: Polette\n",
      "Edad: 32\n",
      "RUT: 123456789\n",
      "¿La persona es adulta?: Si\n"
     ]
    }
   ],
   "source": [
    "persona = Individuo()\n",
    "persona.set_primer_nombre(\"Polette\")\n",
    "persona.set_edad(32)\n",
    "persona.set_rut(\"123456789\")\n",
    "persona.revelar()  \n",
    "print(\"¿La persona es adulta?:\", persona.adulto())  "
   ]
  },
  {
   "cell_type": "code",
   "execution_count": null,
   "metadata": {},
   "outputs": [],
   "source": []
  }
 ],
 "metadata": {
  "kernelspec": {
   "display_name": "base",
   "language": "python",
   "name": "python3"
  },
  "language_info": {
   "codemirror_mode": {
    "name": "ipython",
    "version": 3
   },
   "file_extension": ".py",
   "mimetype": "text/x-python",
   "name": "python",
   "nbconvert_exporter": "python",
   "pygments_lexer": "ipython3",
   "version": "3.10.9"
  },
  "orig_nbformat": 4
 },
 "nbformat": 4,
 "nbformat_minor": 2
}
