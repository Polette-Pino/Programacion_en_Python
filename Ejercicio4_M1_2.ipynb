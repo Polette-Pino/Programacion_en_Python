{
 "cells": [
  {
   "cell_type": "code",
   "execution_count": 32,
   "metadata": {},
   "outputs": [
    {
     "name": "stdout",
     "output_type": "stream",
     "text": [
      "Titular de la cuenta:  Polette\n",
      "Monto en la cuenta:  100\n",
      "Titular de la cuenta:  Polette\n",
      "Monto en la cuenta:  -10\n"
     ]
    }
   ],
   "source": [
    "#Ejercicio 2\n",
    "\n",
    "# Definir el nombre de la clase\n",
    "class Cliente:\n",
    "\n",
    "  # Se crea el constructor para inicializar el objeto con la información de sus atributos\n",
    "  def __init__(self, persona, monto=0):\n",
    "    self._persona = persona\n",
    "    self._monto = monto\n",
    "    \n",
    "  def getPersona(self):\n",
    "     return self._persona\n",
    "     \n",
    "  def getMonto(self):\n",
    "    return self._monto\n",
    "    \n",
    "  def revelar(self):\n",
    "    print(\"Titular de la cuenta: \", self._persona)\n",
    "    print(\"Monto en la cuenta: \", self._monto)\n",
    "    \n",
    "  def ingresar(self, monto):\n",
    "    if monto > 0:\n",
    "      self._monto += monto\n",
    "      \n",
    "  def retirar(self, monto):\n",
    "    self._monto -= monto\n",
    "    \n",
    "cliente = Cliente('Polette', 100) # datos del cliente a ingresar\n",
    "cliente.revelar() # revela los datos del ciente\n",
    "cliente.ingresar(50) # ingreso de dinero a la cuenta\n",
    "cliente.retirar(160) # retiro de dinero a la cuenta\n",
    "cliente.revelar() # revela los datos y el monto que queda en la cuenta"
   ]
  }
 ],
 "metadata": {
  "kernelspec": {
   "display_name": "base",
   "language": "python",
   "name": "python3"
  },
  "language_info": {
   "codemirror_mode": {
    "name": "ipython",
    "version": 3
   },
   "file_extension": ".py",
   "mimetype": "text/x-python",
   "name": "python",
   "nbconvert_exporter": "python",
   "pygments_lexer": "ipython3",
   "version": "3.10.11"
  },
  "orig_nbformat": 4
 },
 "nbformat": 4,
 "nbformat_minor": 2
}
